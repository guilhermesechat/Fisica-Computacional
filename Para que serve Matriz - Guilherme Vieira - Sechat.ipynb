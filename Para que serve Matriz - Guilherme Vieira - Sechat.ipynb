{
 "cells": [
  {
   "cell_type": "markdown",
   "metadata": {},
   "source": [
    "This code was created by Guilherme Vieira (@guilhermewells/sechat.blog for the youtube channel https://www.youtube.com/user/guilhermewellsful)."
   ]
  },
  {
   "cell_type": "markdown",
   "metadata": {},
   "source": [
    "# Para que serve Matriz ?"
   ]
  },
  {
   "cell_type": "code",
   "execution_count": 1,
   "metadata": {},
   "outputs": [],
   "source": [
    "import numpy as np\n",
    "import sympy as sp\n",
    "from sympy import init_printing\n",
    "init_printing() "
   ]
  },
  {
   "cell_type": "markdown",
   "metadata": {},
   "source": [
    "The evolution of fermion is given by\n",
    "\n",
    "$\\langle\\psi_{8}|U_{-u\\delta_{t}}|\\psi_{7}\\rangle\\langle\\psi_{7}|U_{-u\\delta_{t}}|\\psi_{6}\\rangle\\langle\\psi_{6}|U_{-u\\delta_{t}}|\\psi_{5}\\rangle\\langle\\psi_{5}|\\hat{I}|\\psi_{4}\\rangle\\langle\\psi_{4}|U_{+u\\delta_{t}}|\\psi_{3}\\rangle\\langle\\psi_{3}|U_{+u\\delta_{t}}|\\psi_{2}\\rangle\\langle\\psi_{2}|U_{+u\\delta_{t}}|\\psi_{1}\\rangle\\langle\\psi_{1}|\\hat{-\\rho_{0}}|\\psi_{8}\\rangle.$"
   ]
  },
  {
   "cell_type": "markdown",
   "metadata": {},
   "source": [
    "The evolution line above can be writen in the following matrix. \"U\" has the shape of $e^{-ih_{\\pm}\\delta t}$ (not being accurate)"
   ]
  },
  {
   "cell_type": "code",
   "execution_count": 2,
   "metadata": {},
   "outputs": [
    {
     "data": {
      "image/png": "[encoded data removed]",
      "text/latex": [
       "$$\\left[\\begin{matrix}-1 & 0 & 0 & 0 & 0 & - ro\\\\h_{-} & -1 & 0 & 0 & 0 & 0\\\\0 & h_{-} & -1 & 0 & 0 & 0\\\\0 & 0 & 1 & -1 & 0 & 0\\\\0 & 0 & 0 & h_{+} & -1 & 0\\\\0 & 0 & 0 & 0 & h_{+} & -1\\end{matrix}\\right]$$"
      ],
      "text/plain": [
       "⎡-1  0   0   0   0   -ro⎤\n",
       "⎢                       ⎥\n",
       "⎢h₋  -1  0   0   0    0 ⎥\n",
       "⎢                       ⎥\n",
       "⎢0   h₋  -1  0   0    0 ⎥\n",
       "⎢                       ⎥\n",
       "⎢0   0   1   -1  0    0 ⎥\n",
       "⎢                       ⎥\n",
       "⎢0   0   0   h₊  -1   0 ⎥\n",
       "⎢                       ⎥\n",
       "⎣0   0   0   0   h₊  -1 ⎦"
      ]
     },
     "execution_count": 2,
     "metadata": {},
     "output_type": "execute_result"
    }
   ],
   "source": [
    "hu, hd, ro = sp.symbols('h_+ h_- ro')\n",
    "N = 6\n",
    "M = [[0 for o in range(N)] for y in range(N)]\n",
    "\n",
    "for i in range(N):\n",
    "    for j in range(N):\n",
    "        if i == j: \n",
    "            M[i][j] = -1\n",
    "        elif i == 0 and j == N - 1:\n",
    "            M[i][j] = -ro\n",
    "            \n",
    "        elif (i - j) == 1:\n",
    "            if i < N/2:\n",
    "                M[i][j] = hd\n",
    "            elif N/2 < i < N:\n",
    "                M[i][j] = hu         \n",
    "            elif i != 0 and i != 1 and (i%3) == 0:\n",
    "                M[i][j] = 1\n",
    "            \n",
    "Ginv = sp.Matrix(M)\n",
    "Ginv"
   ]
  },
  {
   "cell_type": "code",
   "execution_count": 3,
   "metadata": {},
   "outputs": [
    {
     "data": {
      "image/png": "[encoded data removed]",
      "text/latex": [
       "$$h_{+}^{2} h_{-}^{2} ro + 1$$"
      ],
      "text/plain": [
       "  2   2       \n",
       "h₊ ⋅h₋ ⋅ro + 1"
      ]
     },
     "execution_count": 3,
     "metadata": {},
     "output_type": "execute_result"
    }
   ],
   "source": [
    "#determinant\n",
    "sp.det(Ginv)"
   ]
  },
  {
   "cell_type": "markdown",
   "metadata": {},
   "source": [
    "The inversion of the matrix gives the Green's functions matrice. Four blocks should be considered. The diagonal Keldysh like, and the non-diagonal \"interworld\""
   ]
  },
  {
   "cell_type": "code",
   "execution_count": 4,
   "metadata": {},
   "outputs": [
    {
     "data": {
      "image/png": "[encoded data removed]",
      "text/latex": [
       "$$\\left[\\begin{matrix}1 & - h_{+}^{2} h_{-} ro & - h_{+}^{2} ro & - h_{+}^{2} ro & - h_{+} ro & - ro\\\\h_{-} & 1 & - h_{+}^{2} h_{-} ro & - h_{+}^{2} h_{-} ro & - h_{+} h_{-} ro & - h_{-} ro\\\\h_{-}^{2} & h_{-} & 1 & - h_{+}^{2} h_{-}^{2} ro & - h_{+} h_{-}^{2} ro & - h_{-}^{2} ro\\\\h_{-}^{2} & h_{-} & 1 & 1 & - h_{+} h_{-}^{2} ro & - h_{-}^{2} ro\\\\h_{+} h_{-}^{2} & h_{+} h_{-} & h_{+} & h_{+} & 1 & - h_{+} h_{-}^{2} ro\\\\h_{+}^{2} h_{-}^{2} & h_{+}^{2} h_{-} & h_{+}^{2} & h_{+}^{2} & h_{+} & 1\\end{matrix}\\right]$$"
      ],
      "text/plain": [
       "⎡            2            2            2                             ⎤\n",
       "⎢   1     -h₊ ⋅h₋⋅ro   -h₊ ⋅ro      -h₊ ⋅ro      -h₊⋅ro       -ro    ⎥\n",
       "⎢                                                                    ⎥\n",
       "⎢                        2           2                               ⎥\n",
       "⎢  h₋         1       -h₊ ⋅h₋⋅ro  -h₊ ⋅h₋⋅ro   -h₊⋅h₋⋅ro     -h₋⋅ro  ⎥\n",
       "⎢                                                                    ⎥\n",
       "⎢    2                               2   2           2         2     ⎥\n",
       "⎢  h₋         h₋          1       -h₊ ⋅h₋ ⋅ro  -h₊⋅h₋ ⋅ro   -h₋ ⋅ro  ⎥\n",
       "⎢                                                                    ⎥\n",
       "⎢    2                                               2         2     ⎥\n",
       "⎢  h₋         h₋          1            1       -h₊⋅h₋ ⋅ro   -h₋ ⋅ro  ⎥\n",
       "⎢                                                                    ⎥\n",
       "⎢     2                                                          2   ⎥\n",
       "⎢h₊⋅h₋      h₊⋅h₋         h₊          h₊           1       -h₊⋅h₋ ⋅ro⎥\n",
       "⎢                                                                    ⎥\n",
       "⎢  2   2      2            2            2                            ⎥\n",
       "⎣h₊ ⋅h₋     h₊ ⋅h₋       h₊           h₊           h₊          1     ⎦"
      ]
     },
     "execution_count": 4,
     "metadata": {},
     "output_type": "execute_result"
    }
   ],
   "source": [
    "#the matrix has the determinant multiplied for simplification reasons, it's just a common denominator\n",
    "G = sp.simplify((Ginv**-1)*(-1)*sp.det(Ginv))\n",
    "G"
   ]
  },
  {
   "cell_type": "code",
   "execution_count": 13,
   "metadata": {},
   "outputs": [
    {
     "data": {
      "image/png": "[encoded data removed]",
      "text/latex": [
       "$$\\left[\\begin{matrix}0.707106781186548 & 0.707106781186548\\\\-0.707106781186548 & 0.707106781186548\\end{matrix}\\right]$$"
      ],
      "text/plain": [
       "⎡0.707106781186548   0.707106781186548⎤\n",
       "⎢                                     ⎥\n",
       "⎣-0.707106781186548  0.707106781186548⎦"
      ]
     },
     "execution_count": 13,
     "metadata": {},
     "output_type": "execute_result"
    }
   ],
   "source": [
    "R = sp.Matrix(((2**(1/2))/2)*np.array([[1,1],[-1,1]]))\n",
    "R"
   ]
  },
  {
   "cell_type": "code",
   "execution_count": 29,
   "metadata": {},
   "outputs": [
    {
     "data": {
      "image/png": "[encoded data removed]",
      "text/latex": [
       "$$\\left[\\begin{matrix}\\psi_{cl}\\\\\\psi_{q}\\end{matrix}\\right]$$"
      ],
      "text/plain": [
       "⎡\\psi_{cl}⎤\n",
       "⎢         ⎥\n",
       "⎣\\psi_{q} ⎦"
      ]
     },
     "execution_count": 29,
     "metadata": {},
     "output_type": "execute_result"
    }
   ],
   "source": [
    "psiu, psid = sp.symbols('\\psi_+ \\psi_-')\n",
    "psicl, psiq = sp.symbols('\\psi_{cl} \\psi_{q}')\n",
    "\n",
    "sp.Matrix([psicl, psiq])\n"
   ]
  },
  {
   "cell_type": "code",
   "execution_count": 15,
   "metadata": {},
   "outputs": [
    {
     "data": {
      "image/png": "[encoded data removed]",
      "text/latex": [
       "$$\\left[\\begin{matrix}0.707106781186548 \\left(\\psi_+ + \\psi_-\\right)\\\\- 0.707106781186548 \\left(\\psi_+ - \\psi_-\\right)\\end{matrix}\\right]$$"
      ],
      "text/plain": [
       "⎡0.707106781186548⋅(\\psi₊ + \\psi₋) ⎤\n",
       "⎢                                  ⎥\n",
       "⎣-0.707106781186548⋅(\\psi₊ - \\psi₋)⎦"
      ]
     },
     "execution_count": 15,
     "metadata": {},
     "output_type": "execute_result"
    }
   ],
   "source": [
    "sp.factor(R*sp.Matrix([psip, psim]))"
   ]
  },
  {
   "cell_type": "code",
   "execution_count": 17,
   "metadata": {},
   "outputs": [
    {
     "data": {
      "image/png": "[encoded data removed]",
      "text/latex": [
       "$$\\left[\\begin{matrix}G_{++}^{r} & G_{+-}^{r}\\\\G_{-+}^{r} & G_{--}^{r}\\end{matrix}\\right]$$"
      ],
      "text/plain": [
       "⎡G_{++}__{r}  G_{+-}__{r}⎤\n",
       "⎢                        ⎥\n",
       "⎣G_{-+}__{r}  G_{--}__{r}⎦"
      ]
     },
     "execution_count": 17,
     "metadata": {},
     "output_type": "execute_result"
    }
   ],
   "source": [
    "gpp, gpm, gmp, gmm,  = sp.symbols('G_{++}^{r} G_{+-}^{r} G_{-+}^{r} G_{--}^{r} ')\n",
    "\n",
    "Gt=sp.Matrix([[gpp,gpm],[gmp,gmm]])\n",
    "Gt"
   ]
  },
  {
   "cell_type": "code",
   "execution_count": 19,
   "metadata": {},
   "outputs": [
    {
     "data": {
      "image/png": "[encoded data removed]",
      "text/latex": [
       "$$\\left[\\begin{matrix}0.5 G_{++}^{r} + 0.5 G_{+-}^{r} + 0.5 G_{-+}^{r} + 0.5 G_{--}^{r} & - 0.5 G_{++}^{r} + 0.5 G_{+-}^{r} - 0.5 G_{-+}^{r} + 0.5 G_{--}^{r}\\\\- 0.5 G_{++}^{r} - 0.5 G_{+-}^{r} + 0.5 G_{-+}^{r} + 0.5 G_{--}^{r} & 0.5 G_{++}^{r} - 0.5 G_{+-}^{r} - 0.5 G_{-+}^{r} + 0.5 G_{--}^{r}\\end{matrix}\\right]$$"
      ],
      "text/plain": [
       "⎡0.5⋅G_{++}__{r} + 0.5⋅G_{+-}__{r} + 0.5⋅G_{-+}__{r} + 0.5⋅G_{--}__{r}   -0.5⋅\n",
       "⎢                                                                             \n",
       "⎣-0.5⋅G_{++}__{r} - 0.5⋅G_{+-}__{r} + 0.5⋅G_{-+}__{r} + 0.5⋅G_{--}__{r}  0.5⋅G\n",
       "\n",
       "G_{++}__{r} + 0.5⋅G_{+-}__{r} - 0.5⋅G_{-+}__{r} + 0.5⋅G_{--}__{r}⎤\n",
       "                                                                 ⎥\n",
       "_{++}__{r} - 0.5⋅G_{+-}__{r} - 0.5⋅G_{-+}__{r} + 0.5⋅G_{--}__{r} ⎦"
      ]
     },
     "execution_count": 19,
     "metadata": {},
     "output_type": "execute_result"
    }
   ],
   "source": [
    "G_rot = R*Gt*(R.T)\n",
    "G_rot"
   ]
  },
  {
   "cell_type": "code",
   "execution_count": 20,
   "metadata": {},
   "outputs": [
    {
     "data": {
      "image/png": "[encoded data removed]",
      "text/latex": [
       "$$\\left[\\begin{matrix}G^{R}_{Re} & G^{K}_{Re}\\\\0 & G^{A}_{Re}\\end{matrix}\\right]$$"
      ],
      "text/plain": [
       "⎡G_{Re}__{R}  G_{Re}__{K}⎤\n",
       "⎢                        ⎥\n",
       "⎣     0       G_{Re}__{A}⎦"
      ]
     },
     "execution_count": 20,
     "metadata": {},
     "output_type": "execute_result"
    }
   ],
   "source": [
    "grr, gar,gkr = sp.symbols('G^{R}_{Re} G^{A}_{Re} G^{K}_{Re}')\n",
    "Grt = sp.Matrix([[grr,gkr],[0,gar]])\n",
    "Grt"
   ]
  },
  {
   "cell_type": "code",
   "execution_count": null,
   "metadata": {},
   "outputs": [],
   "source": [
    "Keldysh"
   ]
  }
 ],
 "metadata": {
  "kernelspec": {
   "display_name": "Python 3",
   "language": "python",
   "name": "python3"
  },
  "language_info": {
   "codemirror_mode": {
    "name": "ipython",
    "version": 3
   },
   "file_extension": ".py",
   "mimetype": "text/x-python",
   "name": "python",
   "nbconvert_exporter": "python",
   "pygments_lexer": "ipython3",
   "version": "3.7.0"
  }
 },
 "nbformat": 4,
 "nbformat_minor": 2
}
