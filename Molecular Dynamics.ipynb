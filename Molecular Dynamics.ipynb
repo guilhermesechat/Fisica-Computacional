{
 "cells": [
  {
   "cell_type": "code",
   "execution_count": 8,
   "metadata": {},
   "outputs": [],
   "source": [
    "import numpy as np\n",
    "import matplotlib.pyplot as plt"
   ]
  },
  {
   "cell_type": "markdown",
   "metadata": {},
   "source": [
    "This code was created by Guilherme Vieira (@guilhermesechat/sechat.blog for the youtube channel https://www.youtube.com/user/guilhermewellsful)."
   ]
  },
  {
   "cell_type": "code",
   "execution_count": 559,
   "metadata": {},
   "outputs": [],
   "source": [
    "#number of divisions\n",
    "div = 1E4\n",
    "#time-step\n",
    "step = 1E-12\n",
    "#constats for the Lennard-Jones potential\n",
    "m = 6.7E-26\n",
    "sig = 3.4E-10\n",
    "eps = 1.65E-21\n",
    "t_tot = step*div"
   ]
  },
  {
   "cell_type": "code",
   "execution_count": 560,
   "metadata": {
    "scrolled": true
   },
   "outputs": [
    {
     "data": {
      "image/png": "[encoded data removed]",
      "text/plain": [
       "<Figure size 432x288 with 1 Axes>"
      ]
     },
     "metadata": {
      "needs_background": "light"
     },
     "output_type": "display_data"
    }
   ],
   "source": [
    "#O número de partículas é N\n",
    "N = 30\n",
    "L = 1E-9\n",
    "#defining the 3 main positions, past, present, future\n",
    "particles_prev = np.zeros((N,2))\n",
    "particles = np.zeros((N,2))\n",
    "particles_fut = np.zeros((N,2))\n",
    "\n",
    "#initial random values in a square box\n",
    "Initial = np.array([[np.random.rand()*L,np.random.rand()*L] for i in range(N)])\n",
    "\n",
    "#particles_prev = Initial[:]\n",
    "#particles = Initial[:]\n",
    "np.copyto(particles   _prev,Initial)\n",
    "np.copyto(particles,Initial)\n",
    "\n",
    "plt.plot(particles_prev[:,0],particles_prev[:,1],'+')\n",
    "plt.ylim(0,L)\n",
    "plt.xlim(0,L)\n",
    "plt.show()"
   ]
  },
  {
   "cell_type": "code",
   "execution_count": 561,
   "metadata": {},
   "outputs": [],
   "source": [
    "#defining distances for on particle, it gives an array with all distances from on particle to the others and itself, 0\n",
    "distancia = np.zeros(N,dtype=complex)\n",
    "def dist(i):\n",
    "    for c in range(N):\n",
    "        dif = particles_prev[i] - particles_prev[c]\n",
    "        distancia[c] = np.linalg.norm(dif) +1j*np.angle(dif[0] + 1j*dif[1])\n",
    "        #it gives the magnitude and the angle of interaction, that's why a complex value\n",
    "    return distancia"
   ]
  },
  {
   "cell_type": "code",
   "execution_count": 562,
   "metadata": {},
   "outputs": [],
   "source": [
    "#the next position for a particle i, based on its present and previous values, and the for contribution\n",
    "def prox_pos(i):\n",
    "    particles_fut[i,:] = np.dot(2,particles[i,:]) - particles_prev[i,:] + np.dot(((step**2)/m),force)\n",
    "    #condições de contorno periódicas estilo pac-man, se uma partícula sai na direita, ela aparece na esquerda, não leva em conta perceber partícula periodicamente, a força só atua na sua caixa, preguiça\n",
    "    if particles_fut[i,0] < 0:\n",
    "        particles_fut[i,0] = particles_fut[i,0] + ((abs(particles_fut[i,0])//L)+1)*L\n",
    "    elif particles_fut[i,0] > L:\n",
    "        particles_fut[i,0] = particles_fut[i,0] - (abs(particles_fut[i,0])//L)*L                    \n",
    "                \n",
    "    if particles_fut[i,1] < 0:\n",
    "        particles_fut[i,1] = particles_fut[i,1] + ((abs(particles_fut[i,1])//L)+1)*L   \n",
    "    elif particles_fut[i,1] > L:\n",
    "        particles_fut[i,1] = particles_fut[i,1] - (abs(particles_fut[i,1])//L)*L    \n",
    "    return particles_fut[i,:]"
   ]
  },
  {
   "cell_type": "code",
   "execution_count": 563,
   "metadata": {},
   "outputs": [],
   "source": [
    "def F(i):\n",
    "    #the force acting on a particle, it gives at the end fx an fy, \n",
    "    f = np.zeros((2))\n",
    "    PE = 0\n",
    "    for u in range(N):\n",
    "        dist(i)\n",
    "        d = np.real(dist(i)[u])\n",
    "        #limiting the range of the force\n",
    "        if d == 0 or d > 2.5*sig:\n",
    "            f = f + np.array([0,0])\n",
    "            PE += 0\n",
    "        else:\n",
    "            force = ((48/d)*eps*((sig/d)**12 - (1/2)*(sig/d)**6))\n",
    "            angle = np.imag(dist(i))[u]\n",
    "            f = f + np.array([force*np.cos(angle),force*np.sin(angle)])\n",
    "            #to prevent repeated potential energy calculations from particle 1 to 2 and 2 to 1, for examplea\n",
    "            if u > i:\n",
    "                PE += (4*eps*((sig/d)**12 - (sig/d)**6))\n",
    "\n",
    "    return f,PE"
   ]
  },
  {
   "cell_type": "code",
   "execution_count": 1,
   "metadata": {
    "scrolled": true
   },
   "outputs": [
    {
     "ename": "NameError",
     "evalue": "name 'div' is not defined",
     "output_type": "error",
     "traceback": [
      "\u001b[0;31m---------------------------------------------------------------------------\u001b[0m",
      "\u001b[0;31mNameError\u001b[0m                                 Traceback (most recent call last)",
      "\u001b[0;32m<ipython-input-1-7f4e8e55eab3>\u001b[0m in \u001b[0;36m<module>\u001b[0;34m\u001b[0m\n\u001b[1;32m      2\u001b[0m \u001b[0mT_Pot_En\u001b[0m \u001b[0;34m=\u001b[0m \u001b[0;34m[\u001b[0m\u001b[0;34m]\u001b[0m\u001b[0;34m\u001b[0m\u001b[0;34m\u001b[0m\u001b[0m\n\u001b[1;32m      3\u001b[0m \u001b[0;31m#time evolution\u001b[0m\u001b[0;34m\u001b[0m\u001b[0;34m\u001b[0m\u001b[0;34m\u001b[0m\u001b[0m\n\u001b[0;32m----> 4\u001b[0;31m \u001b[0;32mfor\u001b[0m \u001b[0mt\u001b[0m \u001b[0;32min\u001b[0m \u001b[0mrange\u001b[0m\u001b[0;34m(\u001b[0m\u001b[0;36m1\u001b[0m\u001b[0;34m,\u001b[0m\u001b[0mint\u001b[0m\u001b[0;34m(\u001b[0m\u001b[0mdiv\u001b[0m\u001b[0;34m)\u001b[0m\u001b[0;34m)\u001b[0m\u001b[0;34m:\u001b[0m\u001b[0;34m\u001b[0m\u001b[0;34m\u001b[0m\u001b[0m\n\u001b[0m\u001b[1;32m      5\u001b[0m     \u001b[0mPot_En\u001b[0m \u001b[0;34m=\u001b[0m \u001b[0;36m0\u001b[0m\u001b[0;34m\u001b[0m\u001b[0;34m\u001b[0m\u001b[0m\n\u001b[1;32m      6\u001b[0m     \u001b[0;31m#for each time evolution we see to every particle in the system\u001b[0m\u001b[0;34m\u001b[0m\u001b[0;34m\u001b[0m\u001b[0;34m\u001b[0m\u001b[0m\n",
      "\u001b[0;31mNameError\u001b[0m: name 'div' is not defined"
     ]
    }
   ],
   "source": [
    "Kin_En = []\n",
    "T_Pot_En = []\n",
    "#time evolution\n",
    "for t in range(1,int(div)):\n",
    "    Pot_En = 0\n",
    "    #for each time evolution we see to every particle in the system\n",
    "    for i in range(N):\n",
    "        force, PE = F(i)\n",
    "        prox_pos(i)\n",
    "        #acumulation potencial energy per particle interaction\n",
    "        Pot_En += PE\n",
    "    \n",
    "    #print('prev',particles_prev[:])\n",
    "    #print('pres',particles[:])\n",
    "    #print(\"muda tempo\")\n",
    "    #acumulating potencial energy per time-step, and averaging kinetic energy\n",
    "    T_Pot_En.append(Pot_En)\n",
    "    Kin_En.append(np.dot(m/(2*N),np.sum((np.dot(1/(step),particles_fut[:] - particles[:]))**2)))\n",
    "    \n",
    "    #updating the values of the arrays for the next interaction\n",
    "    np.copyto(particles_prev,particles)\n",
    "    np.copyto(particles,particles_fut)\n",
    "    \n",
    "    plt.plot(particles_fut[:,0],particles_fut[:,1],'+')\n",
    "    plt.ylim(0,L)\n",
    "    plt.xlim(0,L)\n",
    "    plt.savefig('moldyn/fig' + str(t).rjust(10, '0') + '.png')\n",
    "    plt.show()"
   ]
  },
  {
   "cell_type": "code",
   "execution_count": 565,
   "metadata": {},
   "outputs": [
    {
     "data": {
      "image/png": "[encoded data removed]",
      "text/plain": [
       "<Figure size 432x288 with 1 Axes>"
      ]
     },
     "metadata": {
      "needs_background": "light"
     },
     "output_type": "display_data"
    }
   ],
   "source": [
    "plt.plot(np.arange(div-1),Kin_En)\n",
    "plt.show()"
   ]
  },
  {
   "cell_type": "code",
   "execution_count": 566,
   "metadata": {},
   "outputs": [
    {
     "data": {
      "image/png": "[encoded data removed]",
      "text/plain": [
       "<Figure size 432x288 with 1 Axes>"
      ]
     },
     "metadata": {
      "needs_background": "light"
     },
     "output_type": "display_data"
    }
   ],
   "source": [
    "plt.plot(np.arange(div-1),T_Pot_En)\n",
    "plt.show()"
   ]
  },
  {
   "cell_type": "code",
   "execution_count": 567,
   "metadata": {},
   "outputs": [
    {
     "data": {
      "image/png": "[encoded data removed]",
      "text/plain": [
       "<Figure size 432x288 with 1 Axes>"
      ]
     },
     "metadata": {
      "needs_background": "light"
     },
     "output_type": "display_data"
    }
   ],
   "source": [
    "#kinentic energy less potential energy should be zero, idealy...\n",
    "plt.plot(np.arange(div-1),np.array(Kin_En) - np.array(T_Pot_En))\n",
    "plt.show()"
   ]
  },
  {
   "cell_type": "code",
   "execution_count": null,
   "metadata": {},
   "outputs": [],
   "source": [
    "import gif\n",
    "Kin_En = []\n",
    "T_Pot_En = []\n",
    "@gif.frame\n",
    "def rodada(N):\n",
    "    Pot_En = 0\n",
    "    for i in range(N):\n",
    "        for j in range(N):\n",
    "            prox_pos(i,j)\n",
    "            Pot_En += pot\n",
    "    T_Pot_En.append(Pot_En)\n",
    "    Kin_En.append((1/2)*(np.dot(1/(N**2),np.sum(np.linalg.norm(np.dot(1/(step),particles_fut[:,:] - particles[:,:]))))))\n",
    "    \n",
    "    np.copyto(particles_prev,particles)\n",
    "    np.copyto(particles,particles_fut)\n",
    "    \n",
    "    plt.plot(particles_fut[:,:,0],particles_fut[:,:,1],'+')\n",
    "    plt.ylim(0,L)\n",
    "    plt.xlim(0,L)\n",
    "    #plt.show()\n",
    "    return T_Pot_En,Kin_En\n",
    "\n",
    "frames = []\n",
    "for t in range(1,int(div)):\n",
    "    print(\"Tempo restante\", int(div) - t)\n",
    "    frame = rodada(N)\n",
    "    frames.append(frame)\n",
    "\n",
    "gif.save(frames, \"gas.gif\", duration=300)    "
   ]
  }
 ],
 "metadata": {
  "kernelspec": {
   "display_name": "Python 3",
   "language": "python",
   "name": "python3"
  },
  "language_info": {
   "codemirror_mode": {
    "name": "ipython",
    "version": 3
   },
   "file_extension": ".py",
   "mimetype": "text/x-python",
   "name": "python",
   "nbconvert_exporter": "python",
   "pygments_lexer": "ipython3",
   "version": "3.7.6"
  }
 },
 "nbformat": 4,
 "nbformat_minor": 2
}
