{
 "cells": [
  {
   "cell_type": "code",
   "execution_count": 1,
   "metadata": {},
   "outputs": [],
   "source": [
    "import matplotlib.pyplot as plt\n",
    "import numpy as np"
   ]
  },
  {
   "cell_type": "markdown",
   "metadata": {},
   "source": [
    "This code was created by Guilherme Vieira (@guilhermewells/sechat.blog for the youtube channel https://www.youtube.com/user/guilhermewellsful), please don't remove this message."
   ]
  },
  {
   "cell_type": "code",
   "execution_count": 2,
   "metadata": {},
   "outputs": [],
   "source": [
    "class Rule:\n",
    "    \"\"\"These are the following rules for elementary celular automata and totalistic cellular automata. Each method tells \n",
    "    about one of them\"\"\"\n",
    "    \n",
    "    def __init__(self,value):\n",
    "        self.value = value\n",
    "        self.Ca = [0 for i in range(2*size+2)]                     #creating the first line for each iteration\n",
    "                                                                    #the middle term is set to be 1\n",
    "\n",
    "    def Regra1(self):                                          #elementary cellular automata           \n",
    "        self.Ca[int((2*size+2)/2)] = 1         \n",
    "        Canew = [0]\n",
    "\n",
    "        a = '{0:b}'.format(self.value)                           #transforming into binary\n",
    "        x = a.rjust(8,'0')                                       #keeping fixed the number of digits\n",
    "        comb = {'111':x[0],'110':x[1],'101':x[2],'100':x[3],'011':x[4],'010':x[5],'001':x[6],'000':x[7]}   #a dictionary for the rules\n",
    "        for i in range(1,(2*size+2)-1):\n",
    "            y = str(self.Ca[i-1]) + str(self.Ca[i]) + str(self.Ca[i+1])     #here we apply the rules according to 'comb'\n",
    "            Canew.append(comb[y])\n",
    "        Canew.append(0)\n",
    "        self.Ca = Canew\n",
    "\n",
    "\n",
    "    def Regra2(self):                                           #totallistic cellular automata\n",
    "        \n",
    "        self.Ca[int((2*size+2)/2)] = 2 \n",
    "        \n",
    "        Canew = [0]\n",
    "\n",
    "        b = int(self.value)\n",
    "        def find_ternary(b):                                     #transforming into ternary https://www.codevscolor.com/python-convert-decimal-ternarybase-3/\n",
    "            quotient = b/3    \n",
    "            remainder = b%3\n",
    "            if quotient == 0:   \n",
    "                return \"\"\n",
    "            else:\n",
    "                return find_ternary(int(quotient)) + str(int(remainder))    \n",
    "        \n",
    "        x = find_ternary(b).rjust(7,'0')\n",
    "        comb = {'6':x[0],'5':x[1],'4':x[2],'3':x[3],'2':x[4],'1':x[5],'0':x[6]}              #a dictionary for the rules\n",
    "        for i in range(1,(2*size+2)-1):\n",
    "            y = str(int(self.Ca[i-1]) + int(self.Ca[i]) + int(self.Ca[i+1]))     #here we apply the rules according to 'comb'\n",
    "            Canew.append(comb[y])\n",
    "        Canew.append(0)\n",
    "        self.Ca = Canew\n",
    "\n",
    "        "
   ]
  },
  {
   "cell_type": "code",
   "execution_count": 15,
   "metadata": {
    "scrolled": false
   },
   "outputs": [
    {
     "name": "stdout",
     "output_type": "stream",
     "text": [
      "What is the size of the grid? 100\n",
      "Modo 1(ECA) or Modo 2(TCA)? Modo2\n",
      "Diga uma regra de automata totalista, de 0 a 6561: 2372\n"
     ]
    },
    {
     "data": {
      "text/plain": [
       "<matplotlib.image.AxesImage at 0x20338296cc0>"
      ]
     },
     "execution_count": 15,
     "metadata": {},
     "output_type": "execute_result"
    },
    {
     "data": {
      "image/png": "[encoded data removed]",
      "text/plain": [
       "<Figure size 1440x1440 with 1 Axes>"
      ]
     },
     "metadata": {
      "needs_background": "light"
     },
     "output_type": "display_data"
    }
   ],
   "source": [
    "size = int(input('What is the size of the grid? '))\n",
    "#We will get the final size, or a time step, then choose the elementary cellular automaton(Modo1) \n",
    "#or the totallistic cellular automaton (Modo2)\n",
    "regra = input('Modo 1(ECA) or Modo 2(TCA)? ')\n",
    "\n",
    "if regra == 'Modo1':\n",
    "    rules = Rule(int(input('Diga uma regra de automata, de 0 a 256: ')))\n",
    "elif regra == 'Modo2':\n",
    "    rules = Rule(int(input('Diga uma regra de automata totalista, de 0 a 6561: ')))\n",
    "    \n",
    "#the 'rules' set the entrance rule for nearest neighborhoods for each case(Modo), the loop bellow makes the updates into a matrix\n",
    "#for the chosee Rule and \"Modo\"\n",
    "\n",
    "for j in range(size):\n",
    "    if j == 0:\n",
    "        A = [rules.Ca]\n",
    "    if regra == 'Modo1':\n",
    "        rules.Regra1()\n",
    "    elif regra == 'Modo2':\n",
    "        rules.Regra2()    \n",
    "    A = np.insert(A,[j+1],[rules.Ca], axis=0)\n",
    "#    A = np.vstack((A,rules.Ca)).astype(float)  just another way of including the terms\n",
    "\n",
    "fig, ax = plt.subplots(1,1,figsize=(20, 20))\n",
    "ax.imshow(A, interpolation='nearest')\n",
    "#fig.save('folder/it' + str(j) + '.png')\n"
   ]
  },
  {
   "cell_type": "code",
   "execution_count": null,
   "metadata": {},
   "outputs": [],
   "source": []
  }
 ],
 "metadata": {
  "kernelspec": {
   "display_name": "Python 3",
   "language": "python",
   "name": "python3"
  },
  "language_info": {
   "codemirror_mode": {
    "name": "ipython",
    "version": 3
   },
   "file_extension": ".py",
   "mimetype": "text/x-python",
   "name": "python",
   "nbconvert_exporter": "python",
   "pygments_lexer": "ipython3",
   "version": "3.7.0"
  }
 },
 "nbformat": 4,
 "nbformat_minor": 2
}
